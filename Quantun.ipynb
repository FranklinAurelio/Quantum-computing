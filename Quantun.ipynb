{
 "cells": [
  {
   "cell_type": "markdown",
   "id": "de28b9cb",
   "metadata": {},
   "source": [
    "## Azure Quantum Q# notebook\n",
    "\n",
    "To use Jupyter Notebooks with Q#, the \"qsharp\" and \"jupyterlab\" Python packages should be installed.\n",
    "\n",
    "To render charts as shown in this notebook, Matplotlib with notebook widgets support should be installed via \"ipympl\".\n",
    "\n",
    "To submit to Azure Quantum as shown in this notebook, the \"azure-quantum\" package needs to be installed.\n",
    "\n",
    "You can install all the above packages in your Python environment by running the below in your terminal:\n",
    "\n",
    "```bash\n",
    "pip install jupyterlab qsharp ipympl azure-quantum\n",
    "```"
   ]
  },
  {
   "cell_type": "code",
   "execution_count": null,
   "id": "d6814daa",
   "metadata": {},
   "outputs": [],
   "source": [
    "# Run this cell first to enable the \"%%qsharp\" magic command used in later cells\n",
    "import qsharp\n"
   ]
  },
  {
   "cell_type": "markdown",
   "id": "4ce58016",
   "metadata": {},
   "source": [
    "The below cell shows Q# being written directly inside a Jupyter Notebook using the `%%qsharp` 'magic' command"
   ]
  },
  {
   "cell_type": "code",
   "execution_count": null,
   "id": "cb90ff14",
   "metadata": {
    "vscode": {
     "languageId": "qsharp"
    }
   },
   "outputs": [],
   "source": [
    "%%qsharp\n",
    "\n",
    "// This makes the DumpMachine() function available.\n",
    "import Std.Diagnostics.*;\n",
    "\n",
    "operation RandomBit() : Result {\n",
    "    // Qubits are only accesible for the duration of the scope where they\n",
    "    // are allocated and are automatically released at the end of the scope.\n",
    "    use qubit = Qubit();\n",
    "\n",
    "    // Set the qubit in superposition by applying a Hadamard transformation.\n",
    "    H(qubit);\n",
    "\n",
    "    DumpMachine();\n",
    "\n",
    "    // Measure the qubit. There is a 50% probability of measuring either\n",
    "    // \"Zero\" or \"One\".\n",
    "    let result = M(qubit);\n",
    "\n",
    "    Message($\"The result of the measurement is {result}.\");\n",
    "\n",
    "    // Reset the qubit so it can be safely released.\n",
    "    Reset(qubit);\n",
    "    return result;\n",
    "}\n",
    "\n",
    "// Call the operation we defined above.\n",
    "RandomBit();\n"
   ]
  },
  {
   "cell_type": "markdown",
   "id": "4f79e5b8",
   "metadata": {},
   "source": [
    "As well as invoking Q# operations immediately inline (as the last line in the cell above does), the defined operations can also be invoked from Python"
   ]
  },
  {
   "cell_type": "code",
   "execution_count": null,
   "id": "5608d2d6",
   "metadata": {},
   "outputs": [],
   "source": [
    "r = qsharp.eval(\"RandomBit()\")\n",
    "\n",
    "if r == qsharp.Result.One:\n",
    "    i = 1\n",
    "else:\n",
    "    i = 0\n",
    "\n",
    "print(f\"Python: Got integer {i}!\")\n"
   ]
  },
  {
   "cell_type": "code",
   "execution_count": null,
   "id": "0c2ff32c",
   "metadata": {},
   "outputs": [],
   "source": [
    "%matplotlib widget\n",
    "\n",
    "import matplotlib.pyplot as plt\n",
    "import numpy as np\n",
    "from collections import Counter\n",
    "\n",
    "# Use save_events to suppress the automatic printing of events for every shot\n",
    "results = qsharp.run(\"RandomBit()\", shots=1000, save_events=True)\n",
    "\n",
    "# Sort the results so that the histogram labels appear in the correct order\n",
    "# We only care about the result values, not the event data, so extract just the result\n",
    "results = [entry[\"result\"] for entry in results]\n",
    "results.sort()\n",
    "\n",
    "# Count the number of times each result appears\n",
    "counts = Counter(results)\n",
    "\n",
    "(values, counts) = counts.keys(), counts.values()\n",
    "xlabels = np.arange(len(counts))\n",
    "plt.title(\"RandomBit() Results\")\n",
    "plt.bar(xlabels, counts)\n",
    "plt.xticks(xlabels, values)\n",
    "plt.show()\n"
   ]
  },
  {
   "cell_type": "markdown",
   "id": "2d1c53db",
   "metadata": {},
   "source": [
    "## Q# widgets\n",
    "\n",
    "You can also use the `qsharp_widgets` package to visualize data. Install with `pip install qsharp-widgets`"
   ]
  },
  {
   "cell_type": "code",
   "execution_count": null,
   "id": "deb8a871",
   "metadata": {},
   "outputs": [],
   "source": [
    "from qsharp_widgets import Histogram\n",
    "\n",
    "Histogram(results)\n"
   ]
  },
  {
   "cell_type": "code",
   "execution_count": null,
   "id": "198ebe9a",
   "metadata": {},
   "outputs": [],
   "source": [
    "from qsharp_widgets import EstimatesPanel\n",
    "\n",
    "estimate = qsharp.estimate(\"RandomBit()\", [\n",
    "    {\"errorBudget\": 0.333, \"qubitParams\": {\"name\": \"qubit_gate_ns_e3\"}},\n",
    "    {\"errorBudget\": 0.333, \"qubitParams\": {\"name\": \"qubit_gate_us_e4\"}},\n",
    "    {\"errorBudget\": 0.333, \"qubitParams\": {\"name\": \"qubit_maj_ns_e6\"}, \"qecScheme\": {\"name\": \"floquet_code\"}}\n",
    "])\n",
    "EstimatesPanel(estimate)\n"
   ]
  },
  {
   "cell_type": "markdown",
   "id": "81f0cbdb",
   "metadata": {},
   "source": [
    "## Submitting jobs to Azure Quantum\n",
    "\n",
    "Different quantum hardware supports different capabilities, but all Azure Quantum providers support the 'base profile'\n",
    "as defined in the 'Quantum Intermediate Representation' (QIR) specification. (For more details see <https://aka.ms/qdk.qir>)\n",
    "\n",
    "To develop code using this base profile, reintialize the Q# compiler, connect to your Azure Quantum workspace, and submit the job.\n"
   ]
  },
  {
   "cell_type": "code",
   "execution_count": null,
   "id": "7725f81d",
   "metadata": {},
   "outputs": [],
   "source": [
    "# Reset the compiler to target the 'base profile' that all hardware supports\n",
    "\n",
    "qsharp.init(target_profile=qsharp.TargetProfile.Base)\n"
   ]
  },
  {
   "cell_type": "code",
   "execution_count": null,
   "id": "7b016831",
   "metadata": {},
   "outputs": [],
   "source": [
    "# Connect to the Azure Quantum workspace\n",
    "\n",
    "# If developing locally, on first run this will open a browser to authenticate the\n",
    "# connection with Azure. In remote scenarios, such as SSH or Codespaces, it may\n",
    "# be necessary to install the Azure CLI and run 'az login --use-device-code' to\n",
    "# authenticate. For unattended scenarios, such as batch jobs, a service principal\n",
    "# should be configured and used for authentication. For more information, see\n",
    "# https://learn.microsoft.com/en-us/azure/developer/python/sdk/authentication-overview\n",
    "\n",
    "from azure.quantum import Workspace\n",
    "\n",
    "# If using an access key, replace the below with: Workspace.from_connection_string(connection_string)\n",
    "# Or set the \"AZURE_QUANTUM_CONNECTION_STRING\" environment variable and just use: Workspace()\n",
    "# See https://learn.microsoft.com/en-us/azure/quantum/how-to-connect-workspace for more details.\n",
    "\n",
    "workspace = Workspace(\n",
    "    subscription_id = \"MY_SUBSCRIPTION_ID\",\n",
    "    resource_group = \"MY_RESOURCE_GROUP\",\n",
    "    name = \"MY_WORKSPACE_NAME\",\n",
    "    location = \"MY_WORKSPACE_LOCATION\",\n",
    ")\n"
   ]
  },
  {
   "cell_type": "code",
   "execution_count": null,
   "id": "6b75fb7b",
   "metadata": {
    "vscode": {
     "languageId": "qsharp"
    }
   },
   "outputs": [],
   "source": [
    "%%qsharp\n",
    "\n",
    "operation Random() : Result {\n",
    "    use q = Qubit();\n",
    "    H(q);\n",
    "    let result = M(q);\n",
    "    Reset(q);\n",
    "    return result\n",
    "}\n",
    "\n",
    "operation RandomNBits(N: Int): Result[] {\n",
    "    mutable results = [];\n",
    "    for i in 0 .. N - 1 {\n",
    "        let r = Random();\n",
    "        set results += [r];\n",
    "    }\n",
    "    return results\n",
    "}\n"
   ]
  },
  {
   "cell_type": "code",
   "execution_count": null,
   "id": "40ee6fd8",
   "metadata": {},
   "outputs": [],
   "source": [
    "# Run the above code for 100 shots against the Rigetti simulator\n",
    "\n",
    "operation = qsharp.compile(\"RandomNBits(4)\")\n",
    "target = workspace.get_targets(\"rigetti.sim.qvm\")\n",
    "job = target.submit(operation, \"my-azure-quantum-job\", shots=100)\n",
    "\n",
    "# Wait for the job to complete\n",
    "job.get_results()\n"
   ]
  }
 ],
 "metadata": {
  "language_info": {
   "name": "python"
  }
 },
 "nbformat": 4,
 "nbformat_minor": 5
}
